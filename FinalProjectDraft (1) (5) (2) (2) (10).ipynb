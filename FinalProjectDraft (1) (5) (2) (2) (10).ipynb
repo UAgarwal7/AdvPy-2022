{
 "cells": [
  {
   "cell_type": "code",
   "execution_count": null,
   "id": "b0c25a22-8848-4bab-b5b4-3c07f123b01e",
   "metadata": {},
   "outputs": [],
   "source": [
    "pip install -U scikit-learn"
   ]
  },
  {
   "cell_type": "code",
   "execution_count": null,
   "id": "b6a01bb8-41a7-424b-9170-a5d6f9a0b859",
   "metadata": {},
   "outputs": [],
   "source": [
    "pip install pandas"
   ]
  },
  {
   "cell_type": "code",
   "execution_count": null,
   "id": "b179ba6b-0df1-462f-aac3-cba018c0e251",
   "metadata": {},
   "outputs": [],
   "source": [
    "\"\"\"\n",
    "Create a model relating all of the features in the https://www.kaggle.com/datasets/brsdincer/star-type-classification set\n",
    "\"\"\"\n",
    "\n",
    "\"\"\"\n",
    "Make a \"summary\" of the features in the dataset\n",
    "1. Accuracy of model(s)\n",
    "    a. Temperature + Luminosity, T + L + R, T + L + R + M, L + R + M -> a. color (Red, Blue White, White, Yellowish, Pale yellow orange, Blue, Whitish, Yellow-White, Orange, Orange-Red,)\n",
    "    b. Temperature + Luminosity -> Spectral Class\n",
    "    c. Temperature + Luminosity -> Type\n",
    "2. Temperature and Luminosity ranges for each star type\n",
    "\"\"\""
   ]
  },
  {
   "cell_type": "code",
   "execution_count": 5,
   "id": "7718d86a-6bf7-496a-8213-df6620d6793d",
   "metadata": {},
   "outputs": [],
   "source": [
    "import pandas as pd\n",
    "import numpy as np\n",
    "from sklearn.metrics import accuracy_score\n",
    "from sklearn.model_selection import train_test_split\n",
    "from sklearn.preprocessing import StandardScaler\n",
    "from sklearn.neighbors import KNeighborsClassifier\n",
    "from sklearn.ensemble import RandomForestClassifier\n",
    "#import matplotlib.pyplot as plt\n",
    "#import seaborn as sns"
   ]
  },
  {
   "cell_type": "code",
   "execution_count": 17,
   "id": "e110b833-400c-457c-9c0e-43d4f15d44ad",
   "metadata": {},
   "outputs": [
    {
     "name": "stdout",
     "output_type": "stream",
     "text": [
      "------------------------------------------------------------------------------------------------------------------\n",
      "Accuracy Score of KNN (Temperature+Luminosity->Color) is 0.8166666666666667\n",
      "Accuracy Score of KNN (Temperature->Color) is 0.7833333333333333\n",
      "Accuracy Score of KNN (Luminosity->Color) is 0.7166666666666667\n",
      "------------------------------------------------------------------------------------------------------------------\n",
      "Accuracy Score of Random Forest (Temperature+Luminosity->Color) is 0.8833333333333333\n",
      "Accuracy Score of Random Forest (Temperature->Color) is 0.75\n",
      "Accuracy Score of Random Forest (Luminosity->Color) is 0.7166666666666667\n",
      "------------------------------------------------------------------------------------------------------------------\n"
     ]
    }
   ],
   "source": [
    "og_df = pd.DataFrame(pd.read_csv('Stars.csv'))\n",
    "\n",
    "#Change colors related to yellow and white to Yellowish White\n",
    "og_df = og_df.replace(to_replace=\"White Yellow\", value=\"yellow-white\")\n",
    "og_df = og_df.replace(to_replace=\"Yellowish\", value=\"yellow-white\")\n",
    "og_df = og_df.replace(to_replace=\"White-Yellow\", value=\"yellow-white\")\n",
    "og_df = og_df.replace(to_replace=\"White Yellow\", value=\"yellow-white\")\n",
    "og_df = og_df.replace(to_replace=\"Whitish\", value=\"yellow-white\")\n",
    "og_df = og_df.replace(to_replace=\"White\", value=\"yellow-white\")\n",
    "og_df = og_df.replace(to_replace=\"white Yellow\", value=\"yellow-white\")\n",
    "og_df = og_df.replace(to_replace=\"yellowish\", value=\"yellow-white\")\n",
    "og_df = og_df.replace(to_replace=\"white\", value=\"yellow-white\")\n",
    "og_df = og_df.replace(to_replace=\"yellow-white\", value=\"Yellowish White\")\n",
    "#Change colors related to orange to Orange\n",
    "og_df = og_df.replace(to_replace=\"Pale yellow orange\", value=\"Orange\")\n",
    "og_df = og_df.replace(to_replace=\"Orange-Red\", value=\"Orange\")\n",
    "#Change Blue-white to Blue White\n",
    "og_df = og_df.replace(to_replace=\"Blue-white\", value=\"Blue White\")\n",
    "og_df = og_df.replace(to_replace=\"Blue-White\", value=\"Blue White\")\n",
    "\n",
    "#1a\n",
    "#Create new datasets with the Temperature, Luminosity, and Color features\n",
    "T = og_df[['Temperature']].copy()\n",
    "L = og_df[['L']].copy()\n",
    "color = og_df[['Color']].copy()\n",
    "color = color.to_numpy()\n",
    "\n",
    "\n",
    "#1st problem - Which model, because none were working\n",
    "#Solution - turn the color df into a numpy array and use .ravel()\n",
    "temp_train, temp_test, l_train, l_test, color_train, color_test = train_test_split(T, L, color)\n",
    "TL_train = pd.concat([temp_train, l_train], axis=1)\n",
    "TL_test = pd.concat([temp_test, l_test], axis=1)\n",
    "color_train = color_train.ravel()\n",
    "\n",
    "print('------------------------------------------------------------------------------------------------------------------')\n",
    "#Testing different models, K Nearest Neighbors\n",
    "n=8\n",
    "TLC = KNeighborsClassifier(n_neighbors = n)\n",
    "TLC.fit(TL_train, color_train)\n",
    "TLC_pre = TLC.predict(TL_test)\n",
    "\n",
    "print(\"Accuracy Score of KNN (Temperature+Luminosity->Color) is {}\".format(accuracy_score(color_test, TLC_pre)))\n",
    "#Problem 2 - Original KNN Score is always around 0.6-0.7 which can be improved\n",
    "#Try 1: Testing with only temperature, as I think the problem may be in the Luminosity feature\n",
    "#Try 2: Testing Luminosity, inconclusive\n",
    "#Try 3: realized that the replace statements above weren't working\n",
    "#Solution: had to equate the replace statements (df.replace to df = df.replace)\n",
    "#Brought KNN Score to 0.65-0.8\n",
    "TC = KNeighborsClassifier(n_neighbors = n)\n",
    "TC.fit(temp_train, color_train)\n",
    "TC_pre = TC.predict(temp_test)\n",
    "\n",
    "print(\"Accuracy Score of KNN (Temperature->Color) is {}\".format(accuracy_score(color_test, TC_pre)))\n",
    "\n",
    "LC = KNeighborsClassifier(n_neighbors = n)\n",
    "LC.fit(l_train, color_train)\n",
    "LC_pre = LC.predict(l_test)\n",
    "\n",
    "print(\"Accuracy Score of KNN (Luminosity->Color) is {}\".format(accuracy_score(color_test,LC_pre)))\n",
    "\n",
    "print('------------------------------------------------------------------------------------------------------------------')\n",
    "\n",
    "#Next problem: Still wasn't satisfied with the accuracy of the model, trying out Random Forest Model\n",
    "rTLC = RandomForestClassifier(max_depth = 4)\n",
    "rTLC.fit(TL_train, color_train)\n",
    "rTLC_pre = rTLC.predict(TL_test)\n",
    "\n",
    "print(\"Accuracy Score of Random Forest (Temperature+Luminosity->Color) is {}\".format(accuracy_score(color_test, rTLC_pre)))\n",
    "\n",
    "rTC = RandomForestClassifier(max_depth = 4)\n",
    "rTC.fit(temp_train, color_train)\n",
    "rTC_pre = rTC.predict(temp_test)\n",
    "\n",
    "print(\"Accuracy Score of Random Forest (Temperature->Color) is {}\".format(accuracy_score(color_test, rTC_pre)))\n",
    "\n",
    "rLC = RandomForestClassifier(max_depth = 4)\n",
    "rLC.fit(l_train, color_train)\n",
    "rLC_pre = rLC.predict(l_test)\n",
    "\n",
    "print(\"Accuracy Score of Random Forest (Luminosity->Color) is {}\".format(accuracy_score(color_test,rLC_pre)))\n",
    "\n",
    "#Temp and L model accuracy ranges from 0.8 - 0.95, which is good\n",
    "#The other two, just temp and just L, are below that range\n",
    "#More features = better, more accurate models\n",
    "print('------------------------------------------------------------------------------------------------------------------')"
   ]
  }
 ],
 "metadata": {
  "kernelspec": {
   "display_name": "Python 3 (ipykernel)",
   "language": "python",
   "name": "python3"
  },
  "language_info": {
   "codemirror_mode": {
    "name": "ipython",
    "version": 3
   },
   "file_extension": ".py",
   "mimetype": "text/x-python",
   "name": "python",
   "nbconvert_exporter": "python",
   "pygments_lexer": "ipython3",
   "version": "3.7.12"
  }
 },
 "nbformat": 4,
 "nbformat_minor": 5
}
