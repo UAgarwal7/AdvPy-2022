{
 "cells": [
  {
   "cell_type": "code",
   "execution_count": null,
   "id": "243ef5b0-cdaa-4f29-ba98-d14c9bddc5e5",
   "metadata": {},
   "outputs": [],
   "source": [
    "from pymatgen.ext.matproj import MPRester\n",
    "import os\n",
    "\n",
    "mrp = MPRester(\"WGvnrGb5O0a859kv01LwgYTRbRv6PdRf\")\n",
    "\n",
    "\"\"\"\n",
    "query(criteria, properties, chunk_size: int = 500, max_tries_per_chunk: int = 5, mp_decode: bool = True, show_progress_bar: bool = True)\n",
    "\n",
    "Performs an advanced query using MongoDB-like syntax for directly querying the Materials Project database. This allows one to perform queries which are otherwise too cumbersome to perform using the standard convenience methods.\n",
    "\n",
    "Please consult the Materials API documentation at https://github.com/materialsproject/mapidoc, which provides a comprehensive explanation of the document schema used in the Materials Project (supported criteria and properties) and guidance on how best to query for the relevant information you need.\n",
    "\n",
    "For queries that request data on more than CHUNK_SIZE materials at once, this method will chunk a query by first retrieving a list of material IDs that satisfy CRITERIA, and then merging the criteria with a restriction to one chunk of materials at a time of size CHUNK_SIZE. You can opt out of this behavior by setting CHUNK_SIZE=0. To guard against intermittent server errors in the case of many chunks per query, possibly-transient server errors will result in re-trying a give chunk up to MAX_TRIES_PER_CHUNK times.\n",
    "\n",
    "Parameters\n",
    "criteria (str/dict) –\n",
    "\n",
    "Criteria of the query as a string or mongo-style dict.\n",
    "\n",
    "If string, it supports a powerful but simple string criteria. E.g., “Fe2O3” means search for materials with reduced_formula Fe2O3. Wild cards are also supported. E.g., “\\*2O” means get all materials whose formula can be formed as \\*2O, e.g., Li2O, K2O, etc.\n",
    "\n",
    "Other syntax examples: mp-1234: Interpreted as a Materials ID. Fe2O3 or *2O3: Interpreted as reduced formulas. Li-Fe-O or *-Fe-O: Interpreted as chemical systems.\n",
    "\n",
    "You can mix and match with spaces, which are interpreted as “OR”. E.g. “mp-1234 FeO” means query for all compounds with reduced formula FeO or with materials_id mp-1234.\n",
    "\n",
    "Using a full dict syntax, even more powerful queries can be constructed. For example, {“elements”:{“$in”:[“Li”, “Na”, “K”], “$all”: [“O”]}, “nelements”:2} selects all Li, Na and K oxides. {“band_gap”: {“$gt”: 1}} selects all materials with band gaps greater than 1 eV.\n",
    "\n",
    "properties (list) – Properties to request for as a list. For example, [“formula”, “formation_energy_per_atom”] returns the formula and formation energy per atom.\n",
    "\n",
    "chunk_size (int) – Number of materials for which to fetch data at a time. More data-intensive properties may require smaller chunk sizes. Use chunk_size=0 to force no chunking – this is useful when fetching only properties such as ‘material_id’.\n",
    "\n",
    "max_tries_per_chunk (int) – How many times to re-try fetching a given chunk when the server gives a 5xx error (e.g. a timeout error).\n",
    "\n",
    "mp_decode (bool) – Whether to do a decoding to a Pymatgen object where possible. In some cases, it might be useful to just get the raw python dict, i.e., set to False.\n",
    "\n",
    "show_progress_bar (bool) – Whether to show a progress bar for large queries. Defaults to True. Set to False to reduce visual noise.\n",
    "\n",
    "Returns\n",
    "List of results. E.g., [{u’formula’: {u’O’: 1, u’Li’: 2.0}}, {u’formula’: {u’Na’: 2.0, u’O’: 2.0}}, {u’formula’: {u’K’: 1, u’O’: 3.0}}, …]\n",
    "\"\"\""
   ]
  }
 ],
 "metadata": {
  "kernelspec": {
   "display_name": "Python 3 (ipykernel)",
   "language": "python",
   "name": "python3"
  },
  "language_info": {
   "codemirror_mode": {
    "name": "ipython",
    "version": 3
   },
   "file_extension": ".py",
   "mimetype": "text/x-python",
   "name": "python",
   "nbconvert_exporter": "python",
   "pygments_lexer": "ipython3",
   "version": "3.7.12"
  }
 },
 "nbformat": 4,
 "nbformat_minor": 5
}
